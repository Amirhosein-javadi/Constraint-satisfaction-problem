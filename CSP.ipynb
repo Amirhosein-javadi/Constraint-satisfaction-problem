{
  "nbformat": 4,
  "nbformat_minor": 0,
  "metadata": {
    "colab": {
      "name": "CSP.ipynb",
      "provenance": [],
      "collapsed_sections": []
    },
    "kernelspec": {
      "name": "python3",
      "display_name": "Python 3"
    },
    "language_info": {
      "name": "python"
    }
  },
  "cells": [
    {
      "cell_type": "markdown",
      "metadata": {
        "id": "SHgcj5ej_8Ut"
      },
      "source": [
        "As students are preparing for midterm exams and the virtual exam days are gone and forgotten, each department is struggling to select at least one hall out of $N$ halls in the university to hold their exams. But here's the thing:\n",
        "  - Students from each department aren't really fond of sitting next to students from other departments and must be separated (for example CE students and CS students must not share the same hall for exams).\n",
        "  - Each department likes certain halls and won't hold their exams in other halls.\n",
        "  - Sadly, the exit doors in some of the halls are stuck and the hard working staff have provided some routes so that the students from specific halls need to walk through the other hall and exit after the examination. And because they would like to prevent cheating as much as possible, students in such halls cannot be from the same department.\n",
        "Check out the example below to fully understand the situation."
      ]
    },
    {
      "cell_type": "markdown",
      "metadata": {
        "id": "1Rscr80y_8Ut"
      },
      "source": [
        "## Example\n",
        "Look at this picture carefully.<br>\n",
        "<img src=\"Images/CSP_example.png\" width=\"400\"/>\n",
        "  - There are $6$ halls and $3$ departments.\n",
        "  - The halls which the deparments like are indicated (for example, CE exams can be held only at Hall 1, 4 and 6).\n",
        "  - Students from Hall 1 should exit using the doors in Hall 2 (Note: they all exit there and won't continue to Hall 3). In this case, EE students cannot be in both Hall 1 and 2 (But of course, it's okay for them to be in Hall 1 and 3)."
      ]
    },
    {
      "cell_type": "markdown",
      "metadata": {
        "id": "gqh_NgCL_8Ut"
      },
      "source": [
        "## Note\n",
        "  - You _must_ implement and use AC-3 algorithm.\n",
        "  - You will _probably_ need to utilize the heuristic algorithms you have learned (e.g. MRV and LCV) or consider nearly tree-structured graphs approach in order to pass all tests in an appropriate time."
      ]
    },
    {
      "cell_type": "markdown",
      "metadata": {
        "id": "x2fYCaii_8Ut"
      },
      "source": [
        "## Input\n",
        "  - The first line consists of $N$ (count of halls) and $M$ (count of departments).\n",
        "  - In the following $M$ lines, the $i$ th line ($1 \\le i \\le M$) is a list of preferred halls for the $i$ th department (separated by space).\n",
        "  - In the next line, $E$, the total number of exit constraints (edges in the previous graph) are given.\n",
        "  - in each of the following $E$ lines, a pair of hall numbers (separated by space) is given (reminder: the direction is important).\n",
        "$$1 \\le N \\le 50$$\n",
        "$$1 \\le M \\le 50$$\n",
        "\n",
        "### Sample Input\n",
        "This sample describes the previous example (CE=1, EE=2, ME=3).\n",
        "```\n",
        "6 3\n",
        "1 4 6\n",
        "1 2 3 5 6\n",
        "3 4 5\n",
        "5\n",
        "1 2\n",
        "2 3\n",
        "3 4\n",
        "3 5\n",
        "3 6\n",
        "```"
      ]
    },
    {
      "cell_type": "markdown",
      "metadata": {
        "id": "IkFLcd-8_8Uu"
      },
      "source": [
        "## Output\n",
        "In the only line, print:\n",
        "  - list of one appropriate assignment ordered by hall number (separated by space).\n",
        "  - `NO` if there isn't.\n",
        "\n",
        "### Sample Output\n",
        "One possible solution to the example above is {Hall1=CE, Hall2=EE , Hall3=ME, Hall4=CE, Hall5=EE, Hall6=EE}. So:\n",
        "```\n",
        "1 2 3 1 2 2\n",
        "```\n",
        "In another example, If Hall3 was not an option for ME, then the answer would be:\n",
        "```\n",
        "NO\n",
        "```\n",
        "Because then hall 2 or 3 would be empty."
      ]
    },
    {
      "cell_type": "markdown",
      "metadata": {
        "id": "AceS_I47_8Uu"
      },
      "source": [
        "## Your code\n",
        "**Note:** It's OK to change the signature for the given functions and the given structure is just a suggestion to help you with the implementation. (you can't remove or add any cells based on the **Rules** section)"
      ]
    },
    {
      "cell_type": "code",
      "execution_count": null,
      "metadata": {
        "collectable": true,
        "id": "TVqAYVyd_8Uu"
      },
      "outputs": [],
      "source": [
        "def MRV(unassigned,values):\n",
        "    m = len(unassigned)\n",
        "    min_val = len(values[unassigned[0]-1])\n",
        "    best_var = unassigned[0]\n",
        "    for i in range(1,m):\n",
        "        val = len(values[unassigned[i]-1])\n",
        "        if val < min_val:\n",
        "            min_val = val\n",
        "            best_var = unassigned[i]\n",
        "    return best_var\n",
        "\n",
        "def LCV(node,node_neighbours,node_values):\n",
        "    m = len(node_values[node-1])\n",
        "    k = len(node_neighbours)\n",
        "    best_val = node_values[node-1][0]\n",
        "    min_conflict = 0\n",
        "    for i in range(k):\n",
        "        if best_val in node_values[node_neighbours[i]-1]:\n",
        "            min_conflict += 1 \n",
        "    if min_conflict == 0 or m==1 :\n",
        "        return best_val\n",
        "    for j in range(1,m):\n",
        "        val = node_values[node-1][j]\n",
        "        conflict = 0\n",
        "        for i in range(k):\n",
        "            if val in node_values[node_neighbours[i]-1]:\n",
        "                conflict += 1 \n",
        "        if conflict < min_conflict:\n",
        "            min_conflict = conflict\n",
        "            best_val = val\n",
        "    return best_val"
      ]
    },
    {
      "cell_type": "code",
      "execution_count": null,
      "metadata": {
        "collectable": true,
        "id": "GhdwOTuP_8Uv"
      },
      "outputs": [],
      "source": [
        "def ac_3(variable,values,cpt,neighbour,unassigned):\n",
        "    queue = cpt.copy()\n",
        "    while len(queue) != 0:\n",
        "        x1,x2 = queue.pop(0)\n",
        "        if len(values[x1-1]) == 0:\n",
        "            return False,values\n",
        "        if x1 in unassigned:  \n",
        "            for v in values[x1-1]:\n",
        "                if v in values[x2-1]:\n",
        "                    if len(values[x2-1])==1:\n",
        "                        values[x1-1].remove(v)\n",
        "                        for k in range(len(neighbour[x1-1])):\n",
        "                            queue.append([x1,neighbour[x1-1][k]])\n",
        "        if len(values[x2-1]) == 0:\n",
        "            return False,values                            \n",
        "        if x2 in unassigned:  \n",
        "            if len(values[x2-1]) == 0:\n",
        "                return False,values\n",
        "            for v in values[x2-1]:\n",
        "                if v in values[x1-1]:\n",
        "                    if len(values[x1-1])==1:\n",
        "                        values[x2-1].remove(v) \n",
        "                        for k in range(len(neighbour[x2-1])):\n",
        "                            queue.append([x2,neighbour[x2-1][k]])\n",
        "    return True, values "
      ]
    },
    {
      "cell_type": "code",
      "execution_count": null,
      "metadata": {
        "collectable": true,
        "id": "MOHtGmv__8Uv"
      },
      "outputs": [],
      "source": [
        "def backtrack(variable,values,cpt,neighbour,unassigned,assigned):\n",
        "    n = len(variable)\n",
        "    m = len(assigned)\n",
        "    if n == m:\n",
        "        return assigned\n",
        "    state, values = ac_3(variable,values,cpt,neighbour,unassigned)\n",
        "    if state == False:\n",
        "        return 'NO'\n",
        "    var = MRV(unassigned,values)\n",
        "    unassigned.remove(var)\n",
        "    while len(values[var-1])>0:\n",
        "        values_temp = values.copy()\n",
        "        val = LCV(var,neighbour[var-1],values)\n",
        "        assigned.append([var,val])\n",
        "        values_temp[var-1] = [val]\n",
        "        result = backtrack(variable,values_temp,cpt,neighbour,unassigned,assigned)\n",
        "        if result != 'NO':\n",
        "            return assigned\n",
        "        values[var-1].remove(val)\n",
        "        assigned.remove([var,val])\n",
        "    return 'NO'\n",
        "\n",
        "def backtracking_search(variable,values,cpt,neighbour):\n",
        "    unassigned = variable.tolist()\n",
        "    assigned = []\n",
        "    result = backtrack(variable,values,cpt,neighbour,unassigned,assigned)\n",
        "    if result == 'NO':\n",
        "        return result\n",
        "    Final_result = np.zeros(len(result))\n",
        "    for i in range(len(result)):\n",
        "        Final_result[result[i][0]-1] = result[i][1]\n",
        "    Final_result = np.int32(Final_result)\n",
        "    return Final_result "
      ]
    },
    {
      "cell_type": "code",
      "execution_count": null,
      "metadata": {
        "id": "W1Hd-TZn_8Uv"
      },
      "outputs": [],
      "source": [
        "import Helper_codes.question2 as q2\n",
        "import time\n",
        "import numpy as np\n",
        "\n",
        "TIME_LIMIT = 3\n",
        "\n",
        "tests = q2.get_all_tests(prefix='q2_')\n",
        "tests_passed = 0\n",
        "for test in tests:\n",
        "    n, m, m_next_lines, e, next_e_lines = q2.scan_test_input(test)\n",
        "    variable = np.arange(1,n+1)\n",
        "    values = []\n",
        "    for i in range(1,n+1):\n",
        "        my_list = []\n",
        "        for j in range(m):\n",
        "            if i in m_next_lines[j]:\n",
        "                my_list.append(j+1)\n",
        "        values.append(my_list) \n",
        "    neighbour = []\n",
        "    for i in range(1,n+1):\n",
        "        my_list = []\n",
        "        for j in range(e):\n",
        "            if i == next_e_lines[j][0]:\n",
        "                my_list.append(next_e_lines[j][1]) \n",
        "            elif i == next_e_lines[j][1]:\n",
        "                my_list.append(next_e_lines[j][0]) \n",
        "        neighbour.append(my_list) \n",
        "    start_time = time.time()\n",
        "    result = backtracking_search(variable,values,next_e_lines,neighbour)\n",
        "    total_time = time.time() - start_time\n",
        "    if q2.is_result_valid(test, result) and total_time < TIME_LIMIT:\n",
        "        tests_passed += 1\n",
        "    else:\n",
        "        print(f'test {test} failed. time elapsed= {total_time}')\n",
        "print(f'Score = {tests_passed / len(tests) * 100}%')"
      ]
    }
  ]
}